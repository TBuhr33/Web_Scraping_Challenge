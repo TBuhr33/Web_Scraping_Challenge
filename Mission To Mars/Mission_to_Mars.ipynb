{
 "cells": [
  {
   "cell_type": "code",
   "execution_count": null,
   "metadata": {},
   "outputs": [],
   "source": [
    "#import the needed packages\n",
    "from splinter import Browser\n",
    "from bs4 import BeautifulSoup as bs\n",
    "from flask import Flask, render_template, redirect\n",
    "from flask_pymongo import PyMongo\n",
    "import pandas as pd\n",
    "import requests\n",
    "import pprint"
   ]
  },
  {
   "cell_type": "markdown",
   "metadata": {},
   "source": [
    "### Mars News"
   ]
  },
  {
   "cell_type": "code",
   "execution_count": null,
   "metadata": {},
   "outputs": [],
   "source": [
    "#create the path and chrome browser\n",
    "executable_path = {'executable_path': 'chromedriver.exe'}\n",
    "browser = Browser('chrome', **executable_path, headless=False)"
   ]
  },
  {
   "cell_type": "code",
   "execution_count": null,
   "metadata": {},
   "outputs": [],
   "source": [
    "#use beautiful soup to scrape the newest story and it's teaser\n",
    "url = \"https://mars.nasa.gov/news/?page=0&per_page=40&order=publish_date+desc%2Ccreated_at+desc&search=&category=19%2C165%2C184%2C204&blank_scope=Latest\"\n",
    "browser.visit(url)\n",
    "html = browser.html\n",
    "news_soup = bs(html, \"html.parser\")\n",
    "\n",
    "news_title = news_soup.find_all(\"div\", class_ = \"content_title\")[1].text\n",
    "\n",
    "news_p = news_soup.find(\"div\", class_ = 'article_teaser_body').text\n",
    "\n",
    "#print(news_title)\n",
    "news_p"
   ]
  },
  {
   "cell_type": "markdown",
   "metadata": {},
   "source": [
    "### JPL Images"
   ]
  },
  {
   "cell_type": "code",
   "execution_count": null,
   "metadata": {},
   "outputs": [],
   "source": [
    "#create the path and chrome browser\n",
    "executable_path = {'executable_path': 'chromedriver.exe'}\n",
    "browser = Browser('chrome', **executable_path, headless=False)"
   ]
  },
  {
   "cell_type": "code",
   "execution_count": null,
   "metadata": {},
   "outputs": [],
   "source": [
    "url = \"https://www.jpl.nasa.gov/spaceimages/?search=&category=Mars\"\n",
    "browser.visit(url)\n",
    "html = browser.html\n",
    "jpg_soup = bs(html, \"html.parser\")\n",
    "\n",
    "jpg_container = jpg_soup.find(\"div\", class_=\"carousel_items\")\n",
    "image_url = jpg_container.find(\"article\")[\"style\"]\n",
    "#print(image_url)\n",
    "\n",
    "url_clean = image_url.split(\"'\")[1]\n",
    "#print(url_clean)\n",
    "\n",
    "jpl_base_url = \"https://www.jpl.nasa.gov\"\n",
    "feat_image_url = jpl_base_url + url_clean\n",
    "\n",
    "print(feat_image_url)\n",
    "\n",
    "    "
   ]
  },
  {
   "cell_type": "markdown",
   "metadata": {},
   "source": [
    "### Mars Weather: Twitter"
   ]
  },
  {
   "cell_type": "code",
   "execution_count": null,
   "metadata": {},
   "outputs": [],
   "source": [
    "#scrape weather from most recent nasa twitter report"
   ]
  },
  {
   "cell_type": "code",
   "execution_count": null,
   "metadata": {},
   "outputs": [],
   "source": [
    "url = 'https://twitter.com/marswxreport?lang=en'\n",
    "response = requests.get(url)\n",
    "twit_soup = bs(response.text, 'html.parser')\n",
    "mars_w = twit_soup.find_all('p', class_=\"TweetTextSize\")\n",
    "for tweet in mars_w:\n",
    "    tweet.find('a').extract()\n",
    "    if 'InSight sol' in tweet.text:\n",
    "        mars_weather = tweet.text\n",
    "        break\n",
    "mars_weather"
   ]
  },
  {
   "cell_type": "markdown",
   "metadata": {},
   "source": [
    "### Mars Facts"
   ]
  },
  {
   "cell_type": "code",
   "execution_count": null,
   "metadata": {},
   "outputs": [],
   "source": [
    "#find table and convert to df\n",
    "url = \"https://space-facts.com/mars/\"\n",
    "mars_table = pd.read_html(url)\n",
    "mars_table = mars_table[0]\n",
    "mars_table.columns = [\"Parameter\", \"Value\"]\n",
    "mars_table"
   ]
  },
  {
   "cell_type": "code",
   "execution_count": null,
   "metadata": {},
   "outputs": [],
   "source": [
    "#convert df to html string\n",
    "mars_Tstring = mars_table.to_html()\n",
    "mars_Tstring"
   ]
  },
  {
   "cell_type": "markdown",
   "metadata": {},
   "source": [
    "### Hemispheres"
   ]
  },
  {
   "cell_type": "code",
   "execution_count": null,
   "metadata": {},
   "outputs": [],
   "source": [
    "#create for loop to retrieve hemisphere images\n",
    "executable_path = {'executable_path': 'chromedriver.exe'}\n",
    "browser = Browser('chrome', **executable_path, headless=False)\n",
    "url = 'https://astrogeology.usgs.gov/search/results?q=hemisphere+enhanced&k1=target&v1=Mars'\n",
    "response = requests.get(url)\n",
    "hemi_soup = bs(response.text, 'html.parser')\n",
    "hemi_img_urls = []\n",
    "hemi_dict = {}\n",
    "\n",
    "hemispheres = hemi_soup.find_all('div', class_=\"description\")\n",
    "\n",
    "#splinter through \n",
    "for hemisphere in hemispheres:\n",
    "    title = hemisphere.text\n",
    "    browser.visit(url)\n",
    "    browser.click_link_by_partial_text(title)\n",
    "    html = browser.html\n",
    "    hemi_soup_img = bs(html, 'html.parser')\n",
    "\n",
    "    img_url = hemi_soup_img.find('li').a['href']\n",
    "        \n",
    "    hemi_dict[\"title\"] = title\n",
    "    hemi_dict[\"img_url\"] = img_url\n",
    "        \n",
    "    hemi_img_urls.append(hemi_dict)\n",
    "    hemi_dict = {}\n",
    "    \n",
    "hemi_img_urls"
   ]
  },
  {
   "cell_type": "code",
   "execution_count": null,
   "metadata": {},
   "outputs": [],
   "source": []
  }
 ],
 "metadata": {
  "kernelspec": {
   "display_name": "Python [conda env:root] *",
   "language": "python",
   "name": "conda-root-py"
  },
  "language_info": {
   "codemirror_mode": {
    "name": "ipython",
    "version": 3
   },
   "file_extension": ".py",
   "mimetype": "text/x-python",
   "name": "python",
   "nbconvert_exporter": "python",
   "pygments_lexer": "ipython3",
   "version": "3.6.9"
  }
 },
 "nbformat": 4,
 "nbformat_minor": 2
}
